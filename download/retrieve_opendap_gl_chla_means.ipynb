{
 "cells": [
  {
   "cell_type": "code",
   "execution_count": 1,
   "metadata": {},
   "outputs": [],
   "source": [
    "import os\n",
    "import re\n",
    "import pickle\n",
    "import numpy as np\n",
    "import pandas as pd\n",
    "\n",
    "import dl_helper as helper\n"
   ]
  },
  {
   "cell_type": "markdown",
   "metadata": {},
   "source": [
    "## Load Regional Masks"
   ]
  },
  {
   "cell_type": "code",
   "execution_count": 2,
   "metadata": {},
   "outputs": [],
   "source": [
    "# TODO: Define the path_to_pkls_folder (where you stored the mask pkls)\n",
    "group = '1'\n",
    "pkl_folder = f'group_{group}'\n",
    "\n",
    "path_to_pkls_folder = os.path.join('..', 'masks', pkl_folder)   "
   ]
  },
  {
   "cell_type": "code",
   "execution_count": 3,
   "metadata": {},
   "outputs": [
    {
     "name": "stdout",
     "output_type": "stream",
     "text": [
      "Masks: \t\t ['masked_array_region_009.pkl', 'masked_array_region_008.pkl', 'masked_array_region_007.pkl', 'masked_array_region_010.pkl']\n",
      "Bounding box:\t ['bounding_box.pkl']\n"
     ]
    }
   ],
   "source": [
    "# get a list of .pkl files in path_to_pkls_folder\n",
    "mask_filenames = [f for f in os.listdir(path_to_pkls_folder) if f.startswith('masked') and f.endswith('.pkl')]\n",
    "bounding_file = [f for f in os.listdir(path_to_pkls_folder) if f.startswith('bounding') and f.endswith('.pkl')]\n",
    "print(\"Masks: \\t\\t\", mask_filenames)\n",
    "print(\"Bounding box:\\t\", bounding_file)"
   ]
  },
  {
   "cell_type": "code",
   "execution_count": 4,
   "metadata": {},
   "outputs": [],
   "source": [
    "masked_arrays = {file.split('.')[-2].split('_')[-1]: pickle.load(open(os.path.join(path_to_pkls_folder, file), 'rb')) for file in mask_filenames}\n",
    "bounding_box = pickle.load(open(os.path.join(path_to_pkls_folder, bounding_file[0]), 'rb'))"
   ]
  },
  {
   "cell_type": "code",
   "execution_count": 6,
   "metadata": {},
   "outputs": [],
   "source": [
    "lons, lats = helper.get_lons_lats(bounding_box)"
   ]
  },
  {
   "cell_type": "code",
   "execution_count": 5,
   "metadata": {},
   "outputs": [],
   "source": [
    "destination_foldername = f'means_group_{group}'\n",
    "destination_path = os.path.join('..', 'means', destination_foldername)\n",
    "if not os.path.exists(destination_path):\n",
    "    os.makedirs(destination_path)"
   ]
  },
  {
   "cell_type": "code",
   "execution_count": 6,
   "metadata": {},
   "outputs": [],
   "source": [
    "\n",
    "def get_latest_file_number(destination_path):\n",
    "    files = os.listdir(destination_path)\n",
    "    files = [f for f in files if f.endswith('.csv')]\n",
    "\n",
    "    file_numbers = [int(re.search(r'(\\d+)\\D*$', f).group(1)) for f in files]\n",
    "    \n",
    "    return max(file_numbers, default=-1) + 1"
   ]
  },
  {
   "cell_type": "code",
   "execution_count": 7,
   "metadata": {},
   "outputs": [
    {
     "data": {
      "text/plain": [
       "500"
      ]
     },
     "execution_count": 7,
     "metadata": {},
     "output_type": "execute_result"
    }
   ],
   "source": [
    "get_latest_file_number(destination_path)"
   ]
  },
  {
   "cell_type": "code",
   "execution_count": 9,
   "metadata": {},
   "outputs": [
    {
     "name": "stdout",
     "output_type": "stream",
     "text": [
      "Overall progress:  30ish% complete\r"
     ]
    },
    {
     "name": "stderr",
     "output_type": "stream",
     "text": [
      "Note:Caching=1\n",
      "Note:Caching=1\n",
      "Note:Caching=1\n",
      "Note:Caching=1\n",
      "Note:Caching=1\n"
     ]
    },
    {
     "name": "stdout",
     "output_type": "stream",
     "text": [
      "Step Progress: 200.000000 of 500.000000\r"
     ]
    },
    {
     "name": "stderr",
     "output_type": "stream",
     "text": [
      "Error:curl error: Stream error in the HTTP/2 framing layer\n",
      "Error:DAP DATADDS packet is apparently too short\n"
     ]
    },
    {
     "name": "stdout",
     "output_type": "stream",
     "text": [
      "Overall progress:  35ish% complete00000\r"
     ]
    },
    {
     "name": "stderr",
     "output_type": "stream",
     "text": [
      "Note:Caching=1\n",
      "Note:Caching=1\n",
      "Note:Caching=1\n",
      "Note:Caching=1\n",
      "Note:Caching=1\n"
     ]
    },
    {
     "name": "stdout",
     "output_type": "stream",
     "text": [
      "Overall progress:  40ish% complete00000\r"
     ]
    },
    {
     "name": "stderr",
     "output_type": "stream",
     "text": [
      "Note:Caching=1\n",
      "Note:Caching=1\n",
      "Note:Caching=1\n",
      "Note:Caching=1\n",
      "Note:Caching=1\n"
     ]
    },
    {
     "name": "stdout",
     "output_type": "stream",
     "text": [
      "Step Progress: 325.000000 of 500.000000\r"
     ]
    },
    {
     "name": "stderr",
     "output_type": "stream",
     "text": [
      "Error:curl error: Stream error in the HTTP/2 framing layer\n",
      "Note:Caching=1\n"
     ]
    },
    {
     "name": "stdout",
     "output_type": "stream",
     "text": [
      "Error: NetCDF: DAP failure\n",
      "Overall progress:  40ish% complete\r"
     ]
    },
    {
     "name": "stderr",
     "output_type": "stream",
     "text": [
      "Note:Caching=1\n",
      "Note:Caching=1\n",
      "Note:Caching=1\n",
      "Note:Caching=1\n"
     ]
    },
    {
     "name": "stdout",
     "output_type": "stream",
     "text": [
      "Step Progress: 250.000000 of 500.000000\r"
     ]
    }
   ],
   "source": [
    "chla_upperbound = 100 # throw away values above this threshold\n",
    "\n",
    "# start = 9000      # used to get the last 145 days\n",
    "# step = 9645-9500  # used to get the last 145 days\n",
    "\n",
    "start = get_latest_file_number(destination_path)\n",
    "step = 500\n",
    "\n",
    "for _ in range(4):\n",
    "    try:\n",
    "        helper.process_mask_index(start, step, masked_arrays, bounding_box, chla_upperbound, destination_path)\n",
    "        break  # If the operation succeeds, break the loop\n",
    "    except RuntimeError as e:\n",
    "        print(f\"Error: {e}\")\n",
    "        start = get_latest_file_number(destination_path)  # Update start\n",
    "    else:\n",
    "        print(\"Operation failed after 2 attempts. Quitting.\")"
   ]
  },
  {
   "cell_type": "code",
   "execution_count": null,
   "metadata": {},
   "outputs": [],
   "source": [
    "# Inspect the data in the directory ../means\n",
    "def inspect_data(directory):\n",
    "    directory = '../means/'\n",
    "    df = pd.DataFrame()\n",
    "\n",
    "    for filename in os.listdir(directory):\n",
    "        if filename.endswith(\".csv\"):\n",
    "            filepath = os.path.join(directory, filename)\n",
    "            temp_df = pd.read_csv(filepath)\n",
    "            df = pd.concat([df, temp_df])\n",
    "\n",
    "    df['mean'] = df['mean'].replace('--', np.nan)\n",
    "    df['region'] = df['region'].astype('category')\n",
    "    df['datetime'] = pd.to_datetime(df['time'], unit='D', origin='1970-01-01')\n",
    "    df['year'] = df['datetime'].dt.year\n",
    "    df['mean'] = df['mean'].astype(float)\n",
    "\n",
    "    return df\n",
    "   \n",
    "\n",
    "# Print the combined DataFrame\n",
    "# print(inspect_data('../means'))"
   ]
  }
 ],
 "metadata": {
  "kernelspec": {
   "display_name": "greenlandchanges",
   "language": "python",
   "name": "python3"
  },
  "language_info": {
   "codemirror_mode": {
    "name": "ipython",
    "version": 3
   },
   "file_extension": ".py",
   "mimetype": "text/x-python",
   "name": "python",
   "nbconvert_exporter": "python",
   "pygments_lexer": "ipython3",
   "version": "3.9.12"
  }
 },
 "nbformat": 4,
 "nbformat_minor": 2
}
