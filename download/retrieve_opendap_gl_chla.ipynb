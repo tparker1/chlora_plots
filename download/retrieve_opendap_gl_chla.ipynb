{
 "cells": [
  {
   "cell_type": "code",
   "execution_count": 1,
   "metadata": {},
   "outputs": [],
   "source": [
    "import os\n",
    "import pickle\n",
    "import pandas as pd\n",
    "import time as tm\n",
    "import datetime\n",
    "\n",
    "import numpy as np\n",
    "import netCDF4 as nc\n",
    "import matplotlib.pyplot as plt\n",
    "\n",
    "import cartopy.crs as ccrs\n",
    "from shapely.geometry import Point, shape\n",
    "\n",
    "from joblib import Parallel, delayed\n"
   ]
  },
  {
   "cell_type": "code",
   "execution_count": 2,
   "metadata": {},
   "outputs": [],
   "source": [
    "# Load the masks\n",
    "masks = []\n",
    "for x in range(6):\n",
    "    with open(os.path.join('..', 'masks', 'masked_array'+str(x)+'.pkl'), 'rb') as f:\n",
    "    # with open('masked_array' + str(x) + '.pkl', 'rb') as f:\n",
    "        masks.append(pickle.load(f))"
   ]
  },
  {
   "cell_type": "code",
   "execution_count": 3,
   "metadata": {},
   "outputs": [],
   "source": [
    "# subset the data and get the lat, lons\n",
    "minx_index, maxx_index, miny_index, maxy_index = '11800', '13029', '2894', '2325'\n",
    "\n",
    "firstday = '0'\n",
    "lastday = '1'\n",
    "\n",
    "url = \"https://www.oceancolour.org/thredds/dodsC/CCI_ALL-v6.0-1km-DAILY?lat[\"+maxy_index+\":1:\"+miny_index+\"],lon[\"+minx_index+\":1:\"+maxx_index+\"],chlor_a[\"+firstday+\":1:\"+lastday+\"][\"+maxy_index+\":1:\"+miny_index+\"][\"+minx_index+\":1:\"+maxx_index+\"],time[\"+firstday+\":1:\"+lastday+\"]\"\n",
    "ds = nc.Dataset(url)\n",
    "\n",
    "lons = ds.variables['lon'][:]\n",
    "lats = ds.variables['lat'][:]"
   ]
  },
  {
   "cell_type": "code",
   "execution_count": 7,
   "metadata": {},
   "outputs": [],
   "source": [
    "minx_index, maxx_index, miny_index, maxy_index = '11800', '13029', '2894', '2325'\n",
    "\n",
    "def calculate_mean(mask_index, t, step, masks, time):\n",
    "    mask = masks[mask_index]\n",
    "    data = []\n",
    "\n",
    "    ds = get_url(t, step)\n",
    "    for t in range(len(time)):\n",
    "        if mask_index == 0:\n",
    "            print(f\"{t} of {len(time)}\", end=\"\\r\")\n",
    "        chlor_a = np.ma.masked_where(mask.mask, ds.variables['chlor_a'][t].data)    \n",
    "        # chlor_a = np.ma.masked_where(mask.mask, ds[t].data)\n",
    "        chlor_a = np.ma.masked_outside(chlor_a, 0, 10)\n",
    "        mean = chlor_a.mean()\n",
    "        data.append({'region': mask_index, 'time': time[t], 'mean': mean})\n",
    "    print()\n",
    "    return pd.DataFrame(data)\n",
    "\n",
    "def get_url(i, step): \n",
    "    firstday = str(i)\n",
    "    lastday = str(i+(step-1))\n",
    "    url = \"https://www.oceancolour.org/thredds/dodsC/CCI_ALL-v6.0-1km-DAILY?lat[\"+maxy_index+\":1:\"+miny_index+\"],lon[\"+minx_index+\":1:\"+maxx_index+\"],chlor_a[\"+firstday+\":1:\"+lastday+\"][\"+maxy_index+\":1:\"+miny_index+\"][\"+minx_index+\":1:\"+maxx_index+\"],time[\"+firstday+\":1:\"+lastday+\"]\"\n",
    "    return nc.Dataset(url)\n",
    "\n",
    "def process_mask_index(step):\n",
    "# step = 10\n",
    "    for t in range(9500, 10000, step):\n",
    "        # ...\n",
    "        start_time = tm.time()\n",
    "        print(f\"Start time for t={t}: {datetime.datetime.fromtimestamp(start_time).strftime('%H:%M:%S')}\")\n",
    "\n",
    "        ds = get_url(t, step)    \n",
    "        time = ds.variables['time'][:]\n",
    "\n",
    "        results = Parallel(n_jobs=-1, backend=\"threading\")(delayed(calculate_mean)(i, t, step, masks, time) for i in range(6))\n",
    "\n",
    "        mid_time = tm.time()\n",
    "        print(f\"finished parallel step: {datetime.datetime.fromtimestamp(mid_time).strftime('%H:%M:%S')}\")\n",
    "        \n",
    "        df = pd.concat(results)\n",
    "        \n",
    "        mid_time = tm.time()\n",
    "        print(f\"finished concatenating results: {datetime.datetime.fromtimestamp(mid_time).strftime('%H:%M:%S')}\")\n",
    "        \n",
    "        output_file = os.path.join('..', 'means', f'mean_chl_{t}_{t+(step-1)}.csv')\n",
    "        df.to_csv(output_file, index=False)\n",
    "        \n",
    "        end_time = tm.time()\n",
    "        print(\"finished writing to csv...\")\n",
    "        print(f\"End time for t={t}: {datetime.datetime.fromtimestamp(end_time).strftime('%H:%M:%S')}\")\n",
    "        print(f\"Elapsed time for t={t}: {datetime.datetime.fromtimestamp(end_time - start_time).strftime('%H:%M:%S')}\")\n",
    "        print()\n",
    "    # ..."
   ]
  },
  {
   "cell_type": "code",
   "execution_count": 9,
   "metadata": {},
   "outputs": [],
   "source": [
    "try:\n",
    "    process_mask_index(9646-9500-1)\n",
    "except RuntimeError as e:\n",
    "    print(f\"Error: {e}\")"
   ]
  },
  {
   "cell_type": "code",
   "execution_count": 10,
   "metadata": {},
   "outputs": [
    {
     "name": "stdout",
     "output_type": "stream",
     "text": [
      "      region   time                mean\n",
      "0          0  10630                  --\n",
      "1          0  10631                  --\n",
      "2          0  10632                  --\n",
      "3          0  10633                  --\n",
      "4          0  10634                  --\n",
      "...      ...    ...                 ...\n",
      "2995       5  19129   2.936336328209569\n",
      "2996       5  19130  3.1125486965600864\n",
      "2997       5  19131   2.809801807205972\n",
      "2998       5  19132   1.908471051384421\n",
      "2999       5  19133  2.8253495595011326\n",
      "\n",
      "[57876 rows x 3 columns]\n"
     ]
    }
   ],
   "source": [
    "# Inspect the data in the directory ../means\n",
    "def inspect_data(directory):\n",
    "    directory = '../means/'\n",
    "    df = pd.DataFrame()\n",
    "\n",
    "    for filename in os.listdir(directory):\n",
    "        if filename.endswith(\".csv\"):\n",
    "            filepath = os.path.join(directory, filename)\n",
    "            temp_df = pd.read_csv(filepath)\n",
    "            df = pd.concat([df, temp_df])\n",
    "\n",
    "    df['mean'] = df['mean'].replace('--', np.nan)\n",
    "    df['region'] = df['region'].astype('category')\n",
    "    df['datetime'] = pd.to_datetime(df['time'], unit='D', origin='1970-01-01')\n",
    "    df['year'] = df['datetime'].dt.year\n",
    "    df['mean'] = df['mean'].astype(float)\n",
    "\n",
    "    return df\n",
    "   \n",
    "\n",
    "# Print the combined DataFrame\n",
    "print(inspect_data('../means'))"
   ]
  }
 ],
 "metadata": {
  "kernelspec": {
   "display_name": "greenlandchanges",
   "language": "python",
   "name": "python3"
  },
  "language_info": {
   "codemirror_mode": {
    "name": "ipython",
    "version": 3
   },
   "file_extension": ".py",
   "mimetype": "text/x-python",
   "name": "python",
   "nbconvert_exporter": "python",
   "pygments_lexer": "ipython3",
   "version": "3.9.12"
  }
 },
 "nbformat": 4,
 "nbformat_minor": 2
}
